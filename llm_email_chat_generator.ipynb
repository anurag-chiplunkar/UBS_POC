{
  "nbformat": 4,
  "nbformat_minor": 0,
  "metadata": {
    "colab": {
      "provenance": [],
      "collapsed_sections": [
        "XHobdf6SQJpG"
      ],
      "authorship_tag": "ABX9TyPUS96pcsTEpieaAHI61KdZ",
      "include_colab_link": true
    },
    "kernelspec": {
      "name": "python3",
      "display_name": "Python 3"
    },
    "language_info": {
      "name": "python"
    }
  },
  "cells": [
    {
      "cell_type": "markdown",
      "metadata": {
        "id": "view-in-github",
        "colab_type": "text"
      },
      "source": [
        "<a href=\"https://colab.research.google.com/github/anurag-chiplunkar/UBS_POC/blob/master/llm_email_chat_generator.ipynb\" target=\"_parent\"><img src=\"https://colab.research.google.com/assets/colab-badge.svg\" alt=\"Open In Colab\"/></a>"
      ]
    },
    {
      "cell_type": "code",
      "execution_count": 1,
      "metadata": {
        "id": "Fgdyx9l3uhzk",
        "colab": {
          "base_uri": "https://localhost:8080/"
        },
        "outputId": "d6d8ee82-aa77-455e-a058-64430ccd090b"
      },
      "outputs": [
        {
          "output_type": "stream",
          "name": "stdout",
          "text": [
            "Collecting groq\n",
            "  Downloading groq-0.23.1-py3-none-any.whl.metadata (15 kB)\n",
            "Requirement already satisfied: anyio<5,>=3.5.0 in /usr/local/lib/python3.11/dist-packages (from groq) (4.9.0)\n",
            "Requirement already satisfied: distro<2,>=1.7.0 in /usr/local/lib/python3.11/dist-packages (from groq) (1.9.0)\n",
            "Requirement already satisfied: httpx<1,>=0.23.0 in /usr/local/lib/python3.11/dist-packages (from groq) (0.28.1)\n",
            "Requirement already satisfied: pydantic<3,>=1.9.0 in /usr/local/lib/python3.11/dist-packages (from groq) (2.11.3)\n",
            "Requirement already satisfied: sniffio in /usr/local/lib/python3.11/dist-packages (from groq) (1.3.1)\n",
            "Requirement already satisfied: typing-extensions<5,>=4.10 in /usr/local/lib/python3.11/dist-packages (from groq) (4.13.2)\n",
            "Requirement already satisfied: idna>=2.8 in /usr/local/lib/python3.11/dist-packages (from anyio<5,>=3.5.0->groq) (3.10)\n",
            "Requirement already satisfied: certifi in /usr/local/lib/python3.11/dist-packages (from httpx<1,>=0.23.0->groq) (2025.1.31)\n",
            "Requirement already satisfied: httpcore==1.* in /usr/local/lib/python3.11/dist-packages (from httpx<1,>=0.23.0->groq) (1.0.8)\n",
            "Requirement already satisfied: h11<0.15,>=0.13 in /usr/local/lib/python3.11/dist-packages (from httpcore==1.*->httpx<1,>=0.23.0->groq) (0.14.0)\n",
            "Requirement already satisfied: annotated-types>=0.6.0 in /usr/local/lib/python3.11/dist-packages (from pydantic<3,>=1.9.0->groq) (0.7.0)\n",
            "Requirement already satisfied: pydantic-core==2.33.1 in /usr/local/lib/python3.11/dist-packages (from pydantic<3,>=1.9.0->groq) (2.33.1)\n",
            "Requirement already satisfied: typing-inspection>=0.4.0 in /usr/local/lib/python3.11/dist-packages (from pydantic<3,>=1.9.0->groq) (0.4.0)\n",
            "Downloading groq-0.23.1-py3-none-any.whl (127 kB)\n",
            "\u001b[2K   \u001b[90m━━━━━━━━━━━━━━━━━━━━━━━━━━━━━━━━━━━━━━━━\u001b[0m \u001b[32m127.4/127.4 kB\u001b[0m \u001b[31m3.3 MB/s\u001b[0m eta \u001b[36m0:00:00\u001b[0m\n",
            "\u001b[?25hInstalling collected packages: groq\n",
            "Successfully installed groq-0.23.1\n"
          ]
        }
      ],
      "source": [
        "!pip install groq"
      ]
    },
    {
      "cell_type": "code",
      "source": [
        "!pip list > requirements.txt"
      ],
      "metadata": {
        "id": "CcM9GSwYcUkj"
      },
      "execution_count": 2,
      "outputs": []
    },
    {
      "cell_type": "code",
      "source": [
        "import os\n",
        "from groq import Groq\n",
        "import json\n"
      ],
      "metadata": {
        "id": "VB4xl3Y8umFH"
      },
      "execution_count": 3,
      "outputs": []
    },
    {
      "cell_type": "code",
      "source": [
        "client = Groq(\n",
        "    api_key=\"Your_API_Key_here\"\n",
        ")"
      ],
      "metadata": {
        "id": "8Q7a8EXe2vgP"
      },
      "execution_count": 4,
      "outputs": []
    },
    {
      "cell_type": "code",
      "source": [
        "llm = client.chat.completions.create(\n",
        "    messages=[\n",
        "        {\n",
        "            \"role\":\"system\",\n",
        "            \"content\": \"\"\"\n",
        "              You are simulating a real customer writing to a support or help desk across various industries.\n",
        "\n",
        "              Generate a highly realistic and natural customer support email. Please make each sample **different in tone, length, structure, and level of detail**. Avoid repeating the same phrases or formats.\n",
        "\n",
        "              The email should include:\n",
        "              1. A **subject** line appropriate to the issue or intent.\n",
        "              2. A **body** with a natural human tone that may vary between:\n",
        "                - Polite and formal\n",
        "                - Conversational and informal\n",
        "                - Urgent or emotional\n",
        "\n",
        "              Randomly pick one of the following **email types**:\n",
        "              - Feedback\n",
        "              - Complaint\n",
        "              - Request\n",
        "              - Suggestion\n",
        "              - Approval/confirmation\n",
        "              - Escalation/follow-up\n",
        "\n",
        "              And one of the following **domains**:\n",
        "              - Finance\n",
        "              - Telecom\n",
        "              - E-commerce\n",
        "              - Travel\n",
        "              - Education\n",
        "              - Healthcare\n",
        "\n",
        "              The content should:\n",
        "              - Vary between long and short emails\n",
        "              - Include different fictional names, references (order ID, account number, booking ID, etc.)\n",
        "              - Mention attachments or prior emails when appropriate\n",
        "              - Not follow the same exact structure every time\n",
        "\n",
        "              Return the result in this format:\n",
        "\n",
        "              {\n",
        "                \"subject\": \"<Subject>\",\n",
        "                \"email_body\": \"<Body>\"\n",
        "              }\n",
        "              \"\"\"\n",
        "        }\n",
        "    ],\n",
        "    model=\"llama-3.3-70b-versatile\"\n",
        "    # temperature=1\n",
        ")"
      ],
      "metadata": {
        "id": "w5LVuTNJ23aH"
      },
      "execution_count": null,
      "outputs": []
    },
    {
      "cell_type": "markdown",
      "source": [
        "# Sample Email Generator"
      ],
      "metadata": {
        "id": "XHobdf6SQJpG"
      }
    },
    {
      "cell_type": "code",
      "source": [
        "import random\n",
        "\n",
        "\n",
        "departments = [\"feedback\", \"complaint\", \"request\", \"suggestion\", \"approval\", \"escalation\"]\n",
        "\n",
        "# chosen_category = random.choice(categories)\n",
        "# chosen_domain = random.choice(domains)\n",
        "\n",
        "def sampleEmailGenerator():\n",
        "  while True:\n",
        "    llm = client.chat.completions.create(\n",
        "        messages=[\n",
        "            {\n",
        "                \"role\":\"system\",\n",
        "                \"content\": f\"\"\"\n",
        "                  You are simulating a real customer writing to a support or help desk across various industries.\\n\\n\n",
        "\n",
        "                  Generate a highly realistic and natural customer support email.\\n Please make a sample **different in tone, length, structure, and level of detail**.\\n Avoid repeating the same phrases or formats.\\n\\n\n",
        "\n",
        "                  The email should include:\\n\n",
        "                  1. A **subject** line appropriate to the issue or intent.n\\\n",
        "                  2. A **body** with a natural human tone that may vary between:\\n\n",
        "                    - Polite and formal\\n\n",
        "                    - Conversational and informal\\n\n",
        "                    - Urgent or emotional\\n\\n\n",
        "\n",
        "                  Pick the following **email type** as {random.choice(departments)}\\n\\n\n",
        "\n",
        "                  And the following **domain** as Banking.\\n\\n\n",
        "\n",
        "                  The content should:\\n\n",
        "                  - Vary between long and short email\\n\n",
        "                  - Include different fictional names, references (order ID, account number, booking ID, etc.)\\n\n",
        "                  - Mention attachments or prior emails when appropriate\\n\n",
        "                  - Not follow the same exact structure every time\\n\\n\n",
        "\n",
        "                  You have to strictly follow this guideline: Generate only one sample email at a time as this prompt will be part of a generator function. Hence expecting only one sample email at a time.\\n\\n\n",
        "\n",
        "                  Strictly make sure you dont add any \\ or \\n or newlines in the result json.\n",
        "\n",
        "                  Return the result in json format only as example given below:\n",
        "\n",
        "                    {{\"subject\": \"Unresolved Issue with Account Number: 1234567890\",\"body\": \"Dear Banking Support Team, I am writing to follow up on my previous email regarding the discrepancy in my account statement. Unfortunately, I have yet to receive a resolution or a satisfactory explanation for the missing funds. My account number is 1234567890, and I have attached a copy of the statement in question for your reference. As you can see from the attachment, there is a transaction dated 02/15/2023 for $500.00 that I did not authorize. I have tried to contact the bank's customer service multiple times, but the issue remains unresolved. I would greatly appreciate it if you could look into this matter urgently and provide me with a detailed explanation of the transaction and the steps being taken to rectify the situation. Please find the attachment: Account_Statement_1234567890.pdf My previous email was dated 02/20/2023, with the subject 'Discrepancy in Account Statement'. I have also included my contact information below for your convenience. Thank you for your prompt attention to this matter. Sincerely, Emily J. Lee Account Holder\"}}\n",
        "\n",
        "                  \"\"\"\n",
        "            }\n",
        "        ],\n",
        "        model=\"llama-3.3-70b-versatile\",\n",
        "        temperature=0.9      # adds randomness\n",
        "\n",
        "        # top_k=40,            # limits candidates to top k tokens\n",
        "        # top_p=0.9,           # uses nucleus sampling for diversity\n",
        "        # repeat_penalty=1.1   # discourages repeating tokens\n",
        "    )\n",
        "    sampleEmail = llm.choices[0].message.content\n",
        "    yield sampleEmail"
      ],
      "metadata": {
        "id": "lB2bXXzT5GMn"
      },
      "execution_count": null,
      "outputs": []
    },
    {
      "cell_type": "code",
      "source": [
        "emailGenerator = sampleEmailGenerator()"
      ],
      "metadata": {
        "id": "pLqvj1oW8aBw"
      },
      "execution_count": null,
      "outputs": []
    },
    {
      "cell_type": "code",
      "source": [
        "print(next(emailGenerator))"
      ],
      "metadata": {
        "colab": {
          "base_uri": "https://localhost:8080/"
        },
        "id": "4jhNjhHA-GI4",
        "outputId": "185257e8-a0ea-410d-f667-f5584302b3b9"
      },
      "execution_count": null,
      "outputs": [
        {
          "output_type": "stream",
          "name": "stdout",
          "text": [
            "{\"subject\": \"Overdraft Fees on Account 9876543210\",\"body\": \"Hi Banking Support, I'm reaching out about the overdraft fees I was charged on my account 9876543210. I checked my account online and saw that I was charged $35 for overdraft on 3 separate transactions. I understand that I went below the minimum balance, but I had set up overdraft protection from my savings account. I've attached a screenshot of my account activity for your reference. Could you please look into this and refund the fees? I've been a customer for over 5 years and have never had this issue before. My previous email about this issue was on 03/10/2023, but I haven't received a response yet. Please let me know if there's any additional information you need from me. Thanks, David Kim\"}\n"
          ]
        }
      ]
    },
    {
      "cell_type": "markdown",
      "source": [
        "## Creating empty list"
      ],
      "metadata": {
        "id": "swCmfswBuTAZ"
      }
    },
    {
      "cell_type": "code",
      "source": [
        "listOfJsonEmails = []"
      ],
      "metadata": {
        "id": "_OXss011taGw"
      },
      "execution_count": null,
      "outputs": []
    },
    {
      "cell_type": "code",
      "source": [
        "for _ in range(1000):\n",
        "  emailSample = next(emailGenerator)\n",
        "  listOfJsonEmails.append(json.loads(emailSample))"
      ],
      "metadata": {
        "id": "hWhloahftaE0"
      },
      "execution_count": null,
      "outputs": []
    },
    {
      "cell_type": "markdown",
      "source": [
        "## Saving to JSON file"
      ],
      "metadata": {
        "id": "ZhkuN39evFux"
      }
    },
    {
      "cell_type": "code",
      "source": [
        "listOfJsonEmails"
      ],
      "metadata": {
        "id": "M9HN6m8MPMIf"
      },
      "execution_count": null,
      "outputs": []
    },
    {
      "cell_type": "code",
      "source": [
        "with open(\"uniqueJsonEmails-new.json\", \"w\") as file:\n",
        "  json.dump(listOfJsonEmails, file, indent=4)"
      ],
      "metadata": {
        "id": "MDiDQy0BtZ-C"
      },
      "execution_count": null,
      "outputs": []
    },
    {
      "cell_type": "code",
      "source": [],
      "metadata": {
        "id": "cKAE_EYjtZ0q"
      },
      "execution_count": null,
      "outputs": []
    },
    {
      "cell_type": "markdown",
      "source": [
        "# Sample Chat Generator"
      ],
      "metadata": {
        "id": "88cgGIKGQMM1"
      }
    },
    {
      "cell_type": "code",
      "source": [
        "import random\n",
        "\n",
        "categories = [\"feedback\", \"complaint\", \"request\", \"suggestion\", \"approval\", \"escalation\"]\n",
        "\n",
        "\n",
        "def chatMessageGenerator():\n",
        "  while True:\n",
        "    llm = client.chat.completions.create(\n",
        "        messages=[\n",
        "            {\n",
        "                \"role\": \"system\",\n",
        "                \"content\": f\"\"\"\n",
        "                  You are simulating a customer service **chat conversation** between a customer and a support desk agent.\\n\\n\n",
        "\n",
        "                  Your goal is to randomly generate a realistic chat exchange, consisting of **5 to 10 back-and-forth messages** (total), relevant to:\\n\\n\n",
        "\n",
        "                  - **Category as**: {random.choice(categories)}n\\\n",
        "                  - **Domain as** Banking\\n\\n\n",
        "\n",
        "                  💬 Guidelines:\\n\n",
        "                  - The conversation should feel real and natural — not robotic or templated.\\n\n",
        "                  - Vary the message tone, structure, and length (e.g., short queries, detailed explanations).\\n\n",
        "                  - Include realistic references like account numbers, order IDs, ticket references, etc.\\n\n",
        "                  - Mention previous communication or uploaded documents where appropriate.\\n\n",
        "                  - Agent responses should be professional, empathetic, and accurate for the scenario.\\n\\n\n",
        "\n",
        "                  📦 Output format:\\n\n",
        "                  Return the chat as **a valid JSON array of objects**, where each object follows this structure:\\n\\n\n",
        "\n",
        "                  [{{\"sender\": \"customer\",\"message\": \"Hi, I’m reaching out because I was double-charged for my last order...\"}},{{\"sender\": \"agent\",\"message\": \"I’m really sorry to hear that. Let me quickly check the billing details for you.\"}},...]\n",
        "\n",
        "                  ⚠️ Output ONLY the JSON list — no explanation, notes, or extra formatting.\n",
        "                  \"\"\"\n",
        "                          }\n",
        "                      ],\n",
        "                      model=\"llama-3.3-70b-versatile\",\n",
        "                      temperature=0.9      # adds randomness\n",
        "                  )\n",
        "\n",
        "    sampleChat = llm.choices[0].message.content\n",
        "    yield sampleChat\n"
      ],
      "metadata": {
        "id": "8-WdK6QpD5DB"
      },
      "execution_count": 5,
      "outputs": []
    },
    {
      "cell_type": "code",
      "source": [
        "chatGenerator = chatMessageGenerator()\n",
        "print(next(chatGenerator))"
      ],
      "metadata": {
        "id": "eoiOJZh2Q3YT",
        "colab": {
          "base_uri": "https://localhost:8080/"
        },
        "outputId": "a1502c2d-f464-4c59-9f9d-7e20e5a7db4f"
      },
      "execution_count": 6,
      "outputs": [
        {
          "output_type": "stream",
          "name": "stdout",
          "text": [
            "[\n",
            "  {\"sender\": \"customer\", \"message\": \"Hi, I'm trying to request a refund for an incorrect transaction on my account #1234567890\"},\n",
            "  {\"sender\": \"agent\", \"message\": \"I'd be happy to help you with that. Can you please provide me with the transaction date and amount so I can look into this further?\"},\n",
            "  {\"sender\": \"customer\", \"message\": \"The transaction date was 2023-02-15 and the amount was $500. I've already sent an email with the details to your support team, reference #REF20230215\"},\n",
            "  {\"sender\": \"agent\", \"message\": \"Thank you for providing that information. I've located your email and the transaction in question. I'm going to go ahead and process a refund for the incorrect amount. You should see the credit back in your account within 3-5 business days.\"},\n",
            "  {\"sender\": \"customer\", \"message\": \"That sounds great, thank you so much for your help! Can you also let me know if there's anything else I need to do on my end?\"},\n",
            "  {\"sender\": \"agent\", \"message\": \"No, that's all taken care of. However, I do recommend keeping an eye on your account activity to ensure everything looks correct moving forward. If you have any other questions or concerns, don't hesitate to reach out to us.\"},\n",
            "  {\"sender\": \"customer\", \"message\": \"Will do, thanks again for resolving this issue so quickly!\"},\n",
            "  {\"sender\": \"agent\", \"message\": \"You're welcome! It was my pleasure to assist you. Have a great day and feel free to contact us if you need anything else.\"},\n",
            "  {\"sender\": \"customer\", \"message\": \"You too, bye!\"},\n",
            "  {\"sender\": \"agent\", \"message\": \"Bye!\"}\n",
            "]\n"
          ]
        }
      ]
    },
    {
      "cell_type": "code",
      "source": [
        "listOfJsonChats = []"
      ],
      "metadata": {
        "id": "tTAHbk5jWGwk"
      },
      "execution_count": 7,
      "outputs": []
    },
    {
      "cell_type": "code",
      "source": [
        "for i in range(2):\n",
        "  listOfJsonChats.append((json.loads(next(chatGenerator))))"
      ],
      "metadata": {
        "id": "lDrzfSP3WGuL"
      },
      "execution_count": 8,
      "outputs": []
    },
    {
      "cell_type": "code",
      "source": [
        "with open(\"uniqueJsonChat.json\", \"w\") as file:\n",
        "  json.dump(listOfJsonChats, file, indent=4)"
      ],
      "metadata": {
        "id": "TB17JxiWWGry"
      },
      "execution_count": 9,
      "outputs": []
    },
    {
      "cell_type": "code",
      "source": [],
      "metadata": {
        "id": "KWTCoRCYWGpb"
      },
      "execution_count": null,
      "outputs": []
    },
    {
      "cell_type": "markdown",
      "source": [
        "# Voice Sample Generator"
      ],
      "metadata": {
        "id": "7PgP-dqtawpV"
      }
    },
    {
      "cell_type": "code",
      "source": [
        "import random\n",
        "\n",
        "categories = [\"feedback\", \"complaint\", \"request\", \"suggestion\", \"approval\", \"escalation\"]\n",
        "\n",
        "\n",
        "def voiceScriptGenerator():\n",
        "  while True:\n",
        "    llm = client.chat.completions.create(\n",
        "        messages=[\n",
        "            {\n",
        "                \"role\": \"system\",\n",
        "                \"content\": f\"\"\"\n",
        "                Generate a realistic customer voice message to a support desk based on the category {random.choice(categories)} and domain banking. The tone should sound like it’s being spoken, not written. Use filler words, pauses, informal phrasing. Make sure it is atleast 15 sentence long.\n",
        "\n",
        "                Output should be in JSON:\n",
        "                {{\"transcript\": \"<spoken text>\"}}\n",
        "\n",
        "                \"\"\"\n",
        "            }\n",
        "        ],\n",
        "        model=\"llama-3.3-70b-versatile\",\n",
        "        temperature=0.9      # adds randomness\n",
        "        )\n",
        "\n",
        "    sampleChat = llm.choices[0].message.content\n",
        "    yield sampleChat\n"
      ],
      "metadata": {
        "id": "QBV7yIDgUwq7"
      },
      "execution_count": null,
      "outputs": []
    },
    {
      "cell_type": "code",
      "source": [
        "voiceScript = voiceScriptGenerator()\n",
        "print(next(voiceScript))"
      ],
      "metadata": {
        "colab": {
          "base_uri": "https://localhost:8080/"
        },
        "id": "ajxUqDvabspP",
        "outputId": "d22b0ea0-83be-4de1-ded9-6f0b346ef486"
      },
      "execution_count": null,
      "outputs": [
        {
          "output_type": "stream",
          "name": "stdout",
          "text": [
            "{\"transcript\": \"Hey, um, hi, I'm calling about my account, right, so I've been trying to, you know, log in online, and it's not working, like, at all. I've tried, uh, resetting my password, and, yeah, that didn't work either. I've been on the website for, like, 20 minutes now, and I'm getting really frustrated, you know? So, I was wondering if, maybe, you guys could help me out. I've got, like, a few questions, and I'm not really sure what's going on. Okay, so, first of all, my account number is, uh, 123456789, and, yeah, I've had it for, like, five years now. I've never had any problems before, but, like, now it's just not working. I've tried, you know, calling the, uh, the phone number on the back of my card, but, yeah, it just keeps sending me to voicemail. So, I'm like, really stuck here, and I don't know what to do. I need to, you know, pay some bills, and I'm starting to get, like, really worried that I'm gonna be late, you know? Can you, like, help me figure out what's going on? Is it, like, a problem with my account, or is it, like, something with the website? I'm not really sure, and, yeah, I'm getting pretty frustrated. I've been a customer for, like, a long time, and I've always been, you know, really happy with the service, but, like, now I'm starting to get a little, you know, annoyed. So, can you, like, please help me out? I'd really appreciate it, yeah. And, um, can you also, like, tell me how long it's gonna take to, you know, fix the problem? I need to know, like, when I can expect to be able to log in again, you know? I'm available, like, all day, so, yeah, just give me a call back whenever, okay? Thanks, yeah, I really appreciate it. Oh, and, um, one more thing, can you, like, also look into, uh, my credit card account, too? I think there might be, like, a problem with that as well, yeah. I'm not really sure, but, like, I've been getting some weird, uh, error messages, and I don't know what's going on. So, if you could, like, take a look at that, too, that'd be great, thanks.\"}\n"
          ]
        }
      ]
    },
    {
      "cell_type": "code",
      "source": [
        "listOfJsonVoiceScripts = []"
      ],
      "metadata": {
        "id": "HEc_dzC4fDvs"
      },
      "execution_count": null,
      "outputs": []
    },
    {
      "cell_type": "code",
      "source": [
        "for i in range(2):\n",
        "  listOfJsonVoiceScripts.append((json.loads(next(voiceScript))))"
      ],
      "metadata": {
        "id": "cQ1qv3wLdHAr"
      },
      "execution_count": null,
      "outputs": []
    },
    {
      "cell_type": "code",
      "source": [
        "with open(\"uniqueJsonVoiceScripts.json\", \"w\") as file:\n",
        "  json.dump(listOfJsonVoiceScripts, file, indent=4)"
      ],
      "metadata": {
        "id": "uovg_ZeFexnU"
      },
      "execution_count": null,
      "outputs": []
    }
  ]
}